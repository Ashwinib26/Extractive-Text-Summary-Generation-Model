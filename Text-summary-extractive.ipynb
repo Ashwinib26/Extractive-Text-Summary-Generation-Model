{
 "cells": [
  {
   "cell_type": "markdown",
   "id": "22d43825-de26-4806-ad26-5de5e195ee9a",
   "metadata": {},
   "source": [
    "#### Extractive Text Summary Generation Model"
   ]
  },
  {
   "cell_type": "code",
   "execution_count": null,
   "id": "0fc17379-7613-4b49-ab57-40bc4388fc14",
   "metadata": {},
   "outputs": [],
   "source": []
  },
  {
   "cell_type": "code",
   "execution_count": 1,
   "id": "fb49bbe9-8760-48fa-81dd-759a718bf024",
   "metadata": {},
   "outputs": [],
   "source": [
    "text = \"\"\"\"Python is a high-level, interpreted programming language known for its simplicity and readability. Created by Guido van Rossum and first released in 1991, Python emphasizes code clarity with its clean syntax and indentation-based structure. It supports multiple programming paradigms, including procedural, object-oriented, and functional programming. Python’s extensive standard library and vibrant ecosystem of third-party packages make it a versatile tool for a wide range of applications, from web development and automation to data science, machine learning, and artificial intelligence. Popular frameworks like Django and Flask enable rapid web development, while libraries such as NumPy, Pandas, and Scikit-learn support scientific computing and data analysis. Python is widely used in scripting, automation, cybersecurity, and DevOps, making it a crucial skill in modern software development. With a strong community and comprehensive documentation, Python remains one of the most beginner-friendly languages, attracting both newcomers and experienced developers alike. Its cross-platform compatibility allows applications to run seamlessly across different operating systems. Python’s simple syntax, combined with its powerful capabilities, ensures that it remains a dominant language in programming, continually evolving to meet the demands of cutting-edge technology, making it an indispensable tool for developers worldwide.\"\"\""
   ]
  },
  {
   "cell_type": "code",
   "execution_count": 2,
   "id": "213e618d-1de0-40d8-b994-d33a8750fa8a",
   "metadata": {},
   "outputs": [
    {
     "data": {
      "text/plain": [
       "1437"
      ]
     },
     "execution_count": 2,
     "metadata": {},
     "output_type": "execute_result"
    }
   ],
   "source": [
    "len(text)"
   ]
  },
  {
   "cell_type": "code",
   "execution_count": 3,
   "id": "dbae83ee-2680-4ccf-ae88-ccf2a45e9efa",
   "metadata": {},
   "outputs": [],
   "source": [
    "#!pip install spacy"
   ]
  },
  {
   "cell_type": "code",
   "execution_count": 4,
   "id": "e4b05540-a7c2-4b97-9a7b-8e79b160c7e7",
   "metadata": {},
   "outputs": [],
   "source": [
    "#!python -m spacy download en_core_web_sm"
   ]
  },
  {
   "cell_type": "code",
   "execution_count": 5,
   "id": "82823673-0172-46db-af1c-2d667ba5bb6e",
   "metadata": {},
   "outputs": [],
   "source": [
    "import spacy\n",
    "from spacy.lang.en.stop_words import STOP_WORDS\n",
    "from string import punctuation"
   ]
  },
  {
   "cell_type": "code",
   "execution_count": 6,
   "id": "05bc87e4-2c4b-42c0-881f-3eeafc1f9194",
   "metadata": {},
   "outputs": [],
   "source": [
    "nlp = spacy.load('en_core_web_sm')"
   ]
  },
  {
   "cell_type": "code",
   "execution_count": 7,
   "id": "ccc332de-f060-44bb-bd86-9d514b22da00",
   "metadata": {},
   "outputs": [],
   "source": [
    "summary = nlp(text)"
   ]
  },
  {
   "cell_type": "code",
   "execution_count": 8,
   "id": "fbe22b9f-a6f0-478c-a60e-f746f82593ad",
   "metadata": {},
   "outputs": [
    {
     "data": {
      "text/plain": [
       "\"Python is a high-level, interpreted programming language known for its simplicity and readability. Created by Guido van Rossum and first released in 1991, Python emphasizes code clarity with its clean syntax and indentation-based structure. It supports multiple programming paradigms, including procedural, object-oriented, and functional programming. Python’s extensive standard library and vibrant ecosystem of third-party packages make it a versatile tool for a wide range of applications, from web development and automation to data science, machine learning, and artificial intelligence. Popular frameworks like Django and Flask enable rapid web development, while libraries such as NumPy, Pandas, and Scikit-learn support scientific computing and data analysis. Python is widely used in scripting, automation, cybersecurity, and DevOps, making it a crucial skill in modern software development. With a strong community and comprehensive documentation, Python remains one of the most beginner-friendly languages, attracting both newcomers and experienced developers alike. Its cross-platform compatibility allows applications to run seamlessly across different operating systems. Python’s simple syntax, combined with its powerful capabilities, ensures that it remains a dominant language in programming, continually evolving to meet the demands of cutting-edge technology, making it an indispensable tool for developers worldwide."
      ]
     },
     "execution_count": 8,
     "metadata": {},
     "output_type": "execute_result"
    }
   ],
   "source": [
    "summary"
   ]
  },
  {
   "cell_type": "code",
   "execution_count": 9,
   "id": "ae07241a-9bbd-4864-8088-2dd097f0e0b7",
   "metadata": {},
   "outputs": [
    {
     "data": {
      "text/plain": [
       "239"
      ]
     },
     "execution_count": 9,
     "metadata": {},
     "output_type": "execute_result"
    }
   ],
   "source": [
    "len(summary)"
   ]
  },
  {
   "cell_type": "code",
   "execution_count": 10,
   "id": "3805703b-6624-4dd9-a71c-907a1fb1ceca",
   "metadata": {},
   "outputs": [],
   "source": [
    "tokens = [token.text.lower() for token in summary if not token.is_stop and not token.is_punct and token.text !='\\n']"
   ]
  },
  {
   "cell_type": "code",
   "execution_count": 11,
   "id": "f37c6e4b-03e0-4da2-ba05-f7ecbf873a68",
   "metadata": {},
   "outputs": [
    {
     "data": {
      "text/plain": [
       "['python',\n",
       " 'high',\n",
       " 'level',\n",
       " 'interpreted',\n",
       " 'programming',\n",
       " 'language',\n",
       " 'known',\n",
       " 'simplicity',\n",
       " 'readability',\n",
       " 'created',\n",
       " 'guido',\n",
       " 'van',\n",
       " 'rossum',\n",
       " 'released',\n",
       " '1991',\n",
       " 'python',\n",
       " 'emphasizes',\n",
       " 'code',\n",
       " 'clarity',\n",
       " 'clean',\n",
       " 'syntax',\n",
       " 'indentation',\n",
       " 'based',\n",
       " 'structure',\n",
       " 'supports',\n",
       " 'multiple',\n",
       " 'programming',\n",
       " 'paradigms',\n",
       " 'including',\n",
       " 'procedural',\n",
       " 'object',\n",
       " 'oriented',\n",
       " 'functional',\n",
       " 'programming',\n",
       " 'python',\n",
       " 'extensive',\n",
       " 'standard',\n",
       " 'library',\n",
       " 'vibrant',\n",
       " 'ecosystem',\n",
       " 'party',\n",
       " 'packages',\n",
       " 'versatile',\n",
       " 'tool',\n",
       " 'wide',\n",
       " 'range',\n",
       " 'applications',\n",
       " 'web',\n",
       " 'development',\n",
       " 'automation',\n",
       " 'data',\n",
       " 'science',\n",
       " 'machine',\n",
       " 'learning',\n",
       " 'artificial',\n",
       " 'intelligence',\n",
       " 'popular',\n",
       " 'frameworks',\n",
       " 'like',\n",
       " 'django',\n",
       " 'flask',\n",
       " 'enable',\n",
       " 'rapid',\n",
       " 'web',\n",
       " 'development',\n",
       " 'libraries',\n",
       " 'numpy',\n",
       " 'pandas',\n",
       " 'scikit',\n",
       " 'learn',\n",
       " 'support',\n",
       " 'scientific',\n",
       " 'computing',\n",
       " 'data',\n",
       " 'analysis',\n",
       " 'python',\n",
       " 'widely',\n",
       " 'scripting',\n",
       " 'automation',\n",
       " 'cybersecurity',\n",
       " 'devops',\n",
       " 'making',\n",
       " 'crucial',\n",
       " 'skill',\n",
       " 'modern',\n",
       " 'software',\n",
       " 'development',\n",
       " 'strong',\n",
       " 'community',\n",
       " 'comprehensive',\n",
       " 'documentation',\n",
       " 'python',\n",
       " 'remains',\n",
       " 'beginner',\n",
       " 'friendly',\n",
       " 'languages',\n",
       " 'attracting',\n",
       " 'newcomers',\n",
       " 'experienced',\n",
       " 'developers',\n",
       " 'alike',\n",
       " 'cross',\n",
       " 'platform',\n",
       " 'compatibility',\n",
       " 'allows',\n",
       " 'applications',\n",
       " 'run',\n",
       " 'seamlessly',\n",
       " 'different',\n",
       " 'operating',\n",
       " 'systems',\n",
       " 'python',\n",
       " 'simple',\n",
       " 'syntax',\n",
       " 'combined',\n",
       " 'powerful',\n",
       " 'capabilities',\n",
       " 'ensures',\n",
       " 'remains',\n",
       " 'dominant',\n",
       " 'language',\n",
       " 'programming',\n",
       " 'continually',\n",
       " 'evolving',\n",
       " 'meet',\n",
       " 'demands',\n",
       " 'cutting',\n",
       " 'edge',\n",
       " 'technology',\n",
       " 'making',\n",
       " 'indispensable',\n",
       " 'tool',\n",
       " 'developers',\n",
       " 'worldwide']"
      ]
     },
     "execution_count": 11,
     "metadata": {},
     "output_type": "execute_result"
    }
   ],
   "source": [
    "tokens"
   ]
  },
  {
   "cell_type": "code",
   "execution_count": 12,
   "id": "cc899987-9852-4ac0-a7ca-1c6e05b1d932",
   "metadata": {},
   "outputs": [
    {
     "data": {
      "text/plain": [
       "134"
      ]
     },
     "execution_count": 12,
     "metadata": {},
     "output_type": "execute_result"
    }
   ],
   "source": [
    "len(tokens)"
   ]
  },
  {
   "cell_type": "code",
   "execution_count": 13,
   "id": "c7cca82d-1097-46e8-aa6d-254f241cdf47",
   "metadata": {},
   "outputs": [],
   "source": [
    "tokens1 = []\n",
    "stopwords  = list(STOP_WORDS)\n",
    "allowed = ['ADJ','PROPN','VERB','NOUN']\n",
    "for token in summary:\n",
    "    if token.text in stopwords or token.text in punctuation:\n",
    "        continue\n",
    "    if token.pos_ in allowed :\n",
    "        tokens1.append(token.text)"
   ]
  },
  {
   "cell_type": "code",
   "execution_count": 14,
   "id": "3324c207-ca55-424d-942e-8f89c30cd1d4",
   "metadata": {},
   "outputs": [
    {
     "data": {
      "text/plain": [
       "['Python',\n",
       " 'high',\n",
       " 'level',\n",
       " 'interpreted',\n",
       " 'programming',\n",
       " 'language',\n",
       " 'known',\n",
       " 'simplicity',\n",
       " 'readability',\n",
       " 'Created',\n",
       " 'Guido',\n",
       " 'van',\n",
       " 'Rossum',\n",
       " 'released',\n",
       " 'Python',\n",
       " 'emphasizes',\n",
       " 'code',\n",
       " 'clarity',\n",
       " 'clean',\n",
       " 'syntax',\n",
       " 'indentation',\n",
       " 'based',\n",
       " 'structure',\n",
       " 'supports',\n",
       " 'multiple',\n",
       " 'programming',\n",
       " 'paradigms',\n",
       " 'including',\n",
       " 'procedural',\n",
       " 'object',\n",
       " 'oriented',\n",
       " 'functional',\n",
       " 'programming',\n",
       " 'Python',\n",
       " 'extensive',\n",
       " 'standard',\n",
       " 'library',\n",
       " 'vibrant',\n",
       " 'ecosystem',\n",
       " 'party',\n",
       " 'packages',\n",
       " 'versatile',\n",
       " 'tool',\n",
       " 'wide',\n",
       " 'range',\n",
       " 'applications',\n",
       " 'web',\n",
       " 'development',\n",
       " 'automation',\n",
       " 'data',\n",
       " 'science',\n",
       " 'machine',\n",
       " 'learning',\n",
       " 'artificial',\n",
       " 'intelligence',\n",
       " 'Popular',\n",
       " 'frameworks',\n",
       " 'Django',\n",
       " 'Flask',\n",
       " 'enable',\n",
       " 'rapid',\n",
       " 'web',\n",
       " 'development',\n",
       " 'libraries',\n",
       " 'NumPy',\n",
       " 'Pandas',\n",
       " 'Scikit',\n",
       " 'learn',\n",
       " 'support',\n",
       " 'scientific',\n",
       " 'computing',\n",
       " 'data',\n",
       " 'analysis',\n",
       " 'Python',\n",
       " 'scripting',\n",
       " 'automation',\n",
       " 'cybersecurity',\n",
       " 'DevOps',\n",
       " 'making',\n",
       " 'crucial',\n",
       " 'skill',\n",
       " 'modern',\n",
       " 'software',\n",
       " 'development',\n",
       " 'strong',\n",
       " 'community',\n",
       " 'comprehensive',\n",
       " 'documentation',\n",
       " 'Python',\n",
       " 'remains',\n",
       " 'beginner',\n",
       " 'friendly',\n",
       " 'languages',\n",
       " 'attracting',\n",
       " 'newcomers',\n",
       " 'experienced',\n",
       " 'developers',\n",
       " 'cross',\n",
       " 'platform',\n",
       " 'compatibility',\n",
       " 'allows',\n",
       " 'applications',\n",
       " 'run',\n",
       " 'different',\n",
       " 'operating',\n",
       " 'systems',\n",
       " 'Python',\n",
       " 'simple',\n",
       " 'syntax',\n",
       " 'combined',\n",
       " 'powerful',\n",
       " 'capabilities',\n",
       " 'ensures',\n",
       " 'remains',\n",
       " 'dominant',\n",
       " 'language',\n",
       " 'programming',\n",
       " 'evolving',\n",
       " 'meet',\n",
       " 'demands',\n",
       " 'cutting',\n",
       " 'edge',\n",
       " 'technology',\n",
       " 'making',\n",
       " 'indispensable',\n",
       " 'tool',\n",
       " 'developers']"
      ]
     },
     "execution_count": 14,
     "metadata": {},
     "output_type": "execute_result"
    }
   ],
   "source": [
    "tokens1"
   ]
  },
  {
   "cell_type": "code",
   "execution_count": 15,
   "id": "497c61be-1604-4666-a46c-29c49914f117",
   "metadata": {},
   "outputs": [
    {
     "data": {
      "text/plain": [
       "127"
      ]
     },
     "execution_count": 15,
     "metadata": {},
     "output_type": "execute_result"
    }
   ],
   "source": [
    "len(tokens1)"
   ]
  },
  {
   "cell_type": "code",
   "execution_count": 16,
   "id": "8cb7e29a-0248-412f-a9ec-217e674eead4",
   "metadata": {},
   "outputs": [],
   "source": [
    "from collections import Counter"
   ]
  },
  {
   "cell_type": "code",
   "execution_count": 17,
   "id": "ee744ed7-f344-44c8-9680-728da927c576",
   "metadata": {},
   "outputs": [],
   "source": [
    "word_cnt = Counter(tokens)"
   ]
  },
  {
   "cell_type": "code",
   "execution_count": 18,
   "id": "6586907e-2b76-4153-8441-25c63e7ad8f1",
   "metadata": {},
   "outputs": [
    {
     "data": {
      "text/plain": [
       "Counter({'python': 6,\n",
       "         'programming': 4,\n",
       "         'development': 3,\n",
       "         'language': 2,\n",
       "         'syntax': 2,\n",
       "         'tool': 2,\n",
       "         'applications': 2,\n",
       "         'web': 2,\n",
       "         'automation': 2,\n",
       "         'data': 2,\n",
       "         'making': 2,\n",
       "         'remains': 2,\n",
       "         'developers': 2,\n",
       "         'high': 1,\n",
       "         'level': 1,\n",
       "         'interpreted': 1,\n",
       "         'known': 1,\n",
       "         'simplicity': 1,\n",
       "         'readability': 1,\n",
       "         'created': 1,\n",
       "         'guido': 1,\n",
       "         'van': 1,\n",
       "         'rossum': 1,\n",
       "         'released': 1,\n",
       "         '1991': 1,\n",
       "         'emphasizes': 1,\n",
       "         'code': 1,\n",
       "         'clarity': 1,\n",
       "         'clean': 1,\n",
       "         'indentation': 1,\n",
       "         'based': 1,\n",
       "         'structure': 1,\n",
       "         'supports': 1,\n",
       "         'multiple': 1,\n",
       "         'paradigms': 1,\n",
       "         'including': 1,\n",
       "         'procedural': 1,\n",
       "         'object': 1,\n",
       "         'oriented': 1,\n",
       "         'functional': 1,\n",
       "         'extensive': 1,\n",
       "         'standard': 1,\n",
       "         'library': 1,\n",
       "         'vibrant': 1,\n",
       "         'ecosystem': 1,\n",
       "         'party': 1,\n",
       "         'packages': 1,\n",
       "         'versatile': 1,\n",
       "         'wide': 1,\n",
       "         'range': 1,\n",
       "         'science': 1,\n",
       "         'machine': 1,\n",
       "         'learning': 1,\n",
       "         'artificial': 1,\n",
       "         'intelligence': 1,\n",
       "         'popular': 1,\n",
       "         'frameworks': 1,\n",
       "         'like': 1,\n",
       "         'django': 1,\n",
       "         'flask': 1,\n",
       "         'enable': 1,\n",
       "         'rapid': 1,\n",
       "         'libraries': 1,\n",
       "         'numpy': 1,\n",
       "         'pandas': 1,\n",
       "         'scikit': 1,\n",
       "         'learn': 1,\n",
       "         'support': 1,\n",
       "         'scientific': 1,\n",
       "         'computing': 1,\n",
       "         'analysis': 1,\n",
       "         'widely': 1,\n",
       "         'scripting': 1,\n",
       "         'cybersecurity': 1,\n",
       "         'devops': 1,\n",
       "         'crucial': 1,\n",
       "         'skill': 1,\n",
       "         'modern': 1,\n",
       "         'software': 1,\n",
       "         'strong': 1,\n",
       "         'community': 1,\n",
       "         'comprehensive': 1,\n",
       "         'documentation': 1,\n",
       "         'beginner': 1,\n",
       "         'friendly': 1,\n",
       "         'languages': 1,\n",
       "         'attracting': 1,\n",
       "         'newcomers': 1,\n",
       "         'experienced': 1,\n",
       "         'alike': 1,\n",
       "         'cross': 1,\n",
       "         'platform': 1,\n",
       "         'compatibility': 1,\n",
       "         'allows': 1,\n",
       "         'run': 1,\n",
       "         'seamlessly': 1,\n",
       "         'different': 1,\n",
       "         'operating': 1,\n",
       "         'systems': 1,\n",
       "         'simple': 1,\n",
       "         'combined': 1,\n",
       "         'powerful': 1,\n",
       "         'capabilities': 1,\n",
       "         'ensures': 1,\n",
       "         'dominant': 1,\n",
       "         'continually': 1,\n",
       "         'evolving': 1,\n",
       "         'meet': 1,\n",
       "         'demands': 1,\n",
       "         'cutting': 1,\n",
       "         'edge': 1,\n",
       "         'technology': 1,\n",
       "         'indispensable': 1,\n",
       "         'worldwide': 1})"
      ]
     },
     "execution_count": 18,
     "metadata": {},
     "output_type": "execute_result"
    }
   ],
   "source": [
    "word_cnt"
   ]
  },
  {
   "cell_type": "code",
   "execution_count": 19,
   "id": "3df353b3-701d-4009-bfa2-1b77b76b48cd",
   "metadata": {},
   "outputs": [],
   "source": [
    "freq_max = max(word_cnt.values())"
   ]
  },
  {
   "cell_type": "code",
   "execution_count": 20,
   "id": "613a0563-95e7-4ec3-90b9-7ca8eca54f1d",
   "metadata": {},
   "outputs": [
    {
     "data": {
      "text/plain": [
       "6"
      ]
     },
     "execution_count": 20,
     "metadata": {},
     "output_type": "execute_result"
    }
   ],
   "source": [
    "freq_max"
   ]
  },
  {
   "cell_type": "code",
   "execution_count": 21,
   "id": "23d1292a-1227-446a-b2b4-1ff665d1ffc1",
   "metadata": {},
   "outputs": [],
   "source": [
    "for word in word_cnt.keys():\n",
    "    word_cnt[word] = word_cnt[word]/freq_max"
   ]
  },
  {
   "cell_type": "code",
   "execution_count": 22,
   "id": "bfbd7fb7-9f87-4808-bef6-97256178c9ab",
   "metadata": {},
   "outputs": [
    {
     "data": {
      "text/plain": [
       "Counter({'python': 1.0,\n",
       "         'programming': 0.6666666666666666,\n",
       "         'development': 0.5,\n",
       "         'language': 0.3333333333333333,\n",
       "         'syntax': 0.3333333333333333,\n",
       "         'tool': 0.3333333333333333,\n",
       "         'applications': 0.3333333333333333,\n",
       "         'web': 0.3333333333333333,\n",
       "         'automation': 0.3333333333333333,\n",
       "         'data': 0.3333333333333333,\n",
       "         'making': 0.3333333333333333,\n",
       "         'remains': 0.3333333333333333,\n",
       "         'developers': 0.3333333333333333,\n",
       "         'high': 0.16666666666666666,\n",
       "         'level': 0.16666666666666666,\n",
       "         'interpreted': 0.16666666666666666,\n",
       "         'known': 0.16666666666666666,\n",
       "         'simplicity': 0.16666666666666666,\n",
       "         'readability': 0.16666666666666666,\n",
       "         'created': 0.16666666666666666,\n",
       "         'guido': 0.16666666666666666,\n",
       "         'van': 0.16666666666666666,\n",
       "         'rossum': 0.16666666666666666,\n",
       "         'released': 0.16666666666666666,\n",
       "         '1991': 0.16666666666666666,\n",
       "         'emphasizes': 0.16666666666666666,\n",
       "         'code': 0.16666666666666666,\n",
       "         'clarity': 0.16666666666666666,\n",
       "         'clean': 0.16666666666666666,\n",
       "         'indentation': 0.16666666666666666,\n",
       "         'based': 0.16666666666666666,\n",
       "         'structure': 0.16666666666666666,\n",
       "         'supports': 0.16666666666666666,\n",
       "         'multiple': 0.16666666666666666,\n",
       "         'paradigms': 0.16666666666666666,\n",
       "         'including': 0.16666666666666666,\n",
       "         'procedural': 0.16666666666666666,\n",
       "         'object': 0.16666666666666666,\n",
       "         'oriented': 0.16666666666666666,\n",
       "         'functional': 0.16666666666666666,\n",
       "         'extensive': 0.16666666666666666,\n",
       "         'standard': 0.16666666666666666,\n",
       "         'library': 0.16666666666666666,\n",
       "         'vibrant': 0.16666666666666666,\n",
       "         'ecosystem': 0.16666666666666666,\n",
       "         'party': 0.16666666666666666,\n",
       "         'packages': 0.16666666666666666,\n",
       "         'versatile': 0.16666666666666666,\n",
       "         'wide': 0.16666666666666666,\n",
       "         'range': 0.16666666666666666,\n",
       "         'science': 0.16666666666666666,\n",
       "         'machine': 0.16666666666666666,\n",
       "         'learning': 0.16666666666666666,\n",
       "         'artificial': 0.16666666666666666,\n",
       "         'intelligence': 0.16666666666666666,\n",
       "         'popular': 0.16666666666666666,\n",
       "         'frameworks': 0.16666666666666666,\n",
       "         'like': 0.16666666666666666,\n",
       "         'django': 0.16666666666666666,\n",
       "         'flask': 0.16666666666666666,\n",
       "         'enable': 0.16666666666666666,\n",
       "         'rapid': 0.16666666666666666,\n",
       "         'libraries': 0.16666666666666666,\n",
       "         'numpy': 0.16666666666666666,\n",
       "         'pandas': 0.16666666666666666,\n",
       "         'scikit': 0.16666666666666666,\n",
       "         'learn': 0.16666666666666666,\n",
       "         'support': 0.16666666666666666,\n",
       "         'scientific': 0.16666666666666666,\n",
       "         'computing': 0.16666666666666666,\n",
       "         'analysis': 0.16666666666666666,\n",
       "         'widely': 0.16666666666666666,\n",
       "         'scripting': 0.16666666666666666,\n",
       "         'cybersecurity': 0.16666666666666666,\n",
       "         'devops': 0.16666666666666666,\n",
       "         'crucial': 0.16666666666666666,\n",
       "         'skill': 0.16666666666666666,\n",
       "         'modern': 0.16666666666666666,\n",
       "         'software': 0.16666666666666666,\n",
       "         'strong': 0.16666666666666666,\n",
       "         'community': 0.16666666666666666,\n",
       "         'comprehensive': 0.16666666666666666,\n",
       "         'documentation': 0.16666666666666666,\n",
       "         'beginner': 0.16666666666666666,\n",
       "         'friendly': 0.16666666666666666,\n",
       "         'languages': 0.16666666666666666,\n",
       "         'attracting': 0.16666666666666666,\n",
       "         'newcomers': 0.16666666666666666,\n",
       "         'experienced': 0.16666666666666666,\n",
       "         'alike': 0.16666666666666666,\n",
       "         'cross': 0.16666666666666666,\n",
       "         'platform': 0.16666666666666666,\n",
       "         'compatibility': 0.16666666666666666,\n",
       "         'allows': 0.16666666666666666,\n",
       "         'run': 0.16666666666666666,\n",
       "         'seamlessly': 0.16666666666666666,\n",
       "         'different': 0.16666666666666666,\n",
       "         'operating': 0.16666666666666666,\n",
       "         'systems': 0.16666666666666666,\n",
       "         'simple': 0.16666666666666666,\n",
       "         'combined': 0.16666666666666666,\n",
       "         'powerful': 0.16666666666666666,\n",
       "         'capabilities': 0.16666666666666666,\n",
       "         'ensures': 0.16666666666666666,\n",
       "         'dominant': 0.16666666666666666,\n",
       "         'continually': 0.16666666666666666,\n",
       "         'evolving': 0.16666666666666666,\n",
       "         'meet': 0.16666666666666666,\n",
       "         'demands': 0.16666666666666666,\n",
       "         'cutting': 0.16666666666666666,\n",
       "         'edge': 0.16666666666666666,\n",
       "         'technology': 0.16666666666666666,\n",
       "         'indispensable': 0.16666666666666666,\n",
       "         'worldwide': 0.16666666666666666})"
      ]
     },
     "execution_count": 22,
     "metadata": {},
     "output_type": "execute_result"
    }
   ],
   "source": [
    "word_cnt                #normalization betn 0-1"
   ]
  },
  {
   "cell_type": "code",
   "execution_count": 23,
   "id": "6ee768c0-0934-4a0e-9271-d8e7bba5df00",
   "metadata": {},
   "outputs": [],
   "source": [
    "sent_tokens = [sent.text for sent in summary.sents]"
   ]
  },
  {
   "cell_type": "code",
   "execution_count": 24,
   "id": "16915e43-bc53-4062-a6a5-b31737720a1d",
   "metadata": {},
   "outputs": [
    {
     "data": {
      "text/plain": [
       "['\"Python is a high-level, interpreted programming language known for its simplicity and readability. Created by Guido van Rossum and first released in 1991, Python emphasizes code clarity with its clean syntax and indentation-based structure.',\n",
       " 'It supports multiple programming paradigms, including procedural, object-oriented, and functional programming.',\n",
       " 'Python’s extensive standard library and vibrant ecosystem of third-party packages make it a versatile tool for a wide range of applications, from web development and automation to data science, machine learning, and artificial intelligence.',\n",
       " 'Popular frameworks like Django and Flask enable rapid web development, while libraries such as NumPy, Pandas, and Scikit-learn support scientific computing and data analysis.',\n",
       " 'Python is widely used in scripting, automation, cybersecurity, and DevOps, making it a crucial skill in modern software development.',\n",
       " 'With a strong community and comprehensive documentation, Python remains one of the most beginner-friendly languages, attracting both newcomers and experienced developers alike.',\n",
       " 'Its cross-platform compatibility allows applications to run seamlessly across different operating systems.',\n",
       " 'Python’s simple syntax, combined with its powerful capabilities, ensures that it remains a dominant language in programming, continually evolving to meet the demands of cutting-edge technology, making it an indispensable tool for developers worldwide.']"
      ]
     },
     "execution_count": 24,
     "metadata": {},
     "output_type": "execute_result"
    }
   ],
   "source": [
    "sent_tokens"
   ]
  },
  {
   "cell_type": "code",
   "execution_count": 25,
   "id": "d9562280-4e7b-4818-a5d5-ca36d95b89c1",
   "metadata": {},
   "outputs": [
    {
     "name": "stdout",
     "output_type": "stream",
     "text": [
      "\"Python\n",
      "is\n",
      "a\n",
      "high-level,\n",
      "interpreted\n",
      "programming\n",
      "language\n",
      "known\n",
      "for\n",
      "its\n",
      "simplicity\n",
      "and\n",
      "readability.\n",
      "Created\n",
      "by\n",
      "Guido\n",
      "van\n",
      "Rossum\n",
      "and\n",
      "first\n",
      "released\n",
      "in\n",
      "1991,\n",
      "Python\n",
      "emphasizes\n",
      "code\n",
      "clarity\n",
      "with\n",
      "its\n",
      "clean\n",
      "syntax\n",
      "and\n",
      "indentation-based\n",
      "structure.\n",
      "It\n",
      "supports\n",
      "multiple\n",
      "programming\n",
      "paradigms,\n",
      "including\n",
      "procedural,\n",
      "object-oriented,\n",
      "and\n",
      "functional\n",
      "programming.\n",
      "Python’s\n",
      "extensive\n",
      "standard\n",
      "library\n",
      "and\n",
      "vibrant\n",
      "ecosystem\n",
      "of\n",
      "third-party\n",
      "packages\n",
      "make\n",
      "it\n",
      "a\n",
      "versatile\n",
      "tool\n",
      "for\n",
      "a\n",
      "wide\n",
      "range\n",
      "of\n",
      "applications,\n",
      "from\n",
      "web\n",
      "development\n",
      "and\n",
      "automation\n",
      "to\n",
      "data\n",
      "science,\n",
      "machine\n",
      "learning,\n",
      "and\n",
      "artificial\n",
      "intelligence.\n",
      "Popular\n",
      "frameworks\n",
      "like\n",
      "Django\n",
      "and\n",
      "Flask\n",
      "enable\n",
      "rapid\n",
      "web\n",
      "development,\n",
      "while\n",
      "libraries\n",
      "such\n",
      "as\n",
      "NumPy,\n",
      "Pandas,\n",
      "and\n",
      "Scikit-learn\n",
      "support\n",
      "scientific\n",
      "computing\n",
      "and\n",
      "data\n",
      "analysis.\n",
      "Python\n",
      "is\n",
      "widely\n",
      "used\n",
      "in\n",
      "scripting,\n",
      "automation,\n",
      "cybersecurity,\n",
      "and\n",
      "DevOps,\n",
      "making\n",
      "it\n",
      "a\n",
      "crucial\n",
      "skill\n",
      "in\n",
      "modern\n",
      "software\n",
      "development.\n",
      "With\n",
      "a\n",
      "strong\n",
      "community\n",
      "and\n",
      "comprehensive\n",
      "documentation,\n",
      "Python\n",
      "remains\n",
      "one\n",
      "of\n",
      "the\n",
      "most\n",
      "beginner-friendly\n",
      "languages,\n",
      "attracting\n",
      "both\n",
      "newcomers\n",
      "and\n",
      "experienced\n",
      "developers\n",
      "alike.\n",
      "Its\n",
      "cross-platform\n",
      "compatibility\n",
      "allows\n",
      "applications\n",
      "to\n",
      "run\n",
      "seamlessly\n",
      "across\n",
      "different\n",
      "operating\n",
      "systems.\n",
      "Python’s\n",
      "simple\n",
      "syntax,\n",
      "combined\n",
      "with\n",
      "its\n",
      "powerful\n",
      "capabilities,\n",
      "ensures\n",
      "that\n",
      "it\n",
      "remains\n",
      "a\n",
      "dominant\n",
      "language\n",
      "in\n",
      "programming,\n",
      "continually\n",
      "evolving\n",
      "to\n",
      "meet\n",
      "the\n",
      "demands\n",
      "of\n",
      "cutting-edge\n",
      "technology,\n",
      "making\n",
      "it\n",
      "an\n",
      "indispensable\n",
      "tool\n",
      "for\n",
      "developers\n",
      "worldwide.\n"
     ]
    }
   ],
   "source": [
    "sent_score = {}\n",
    "for sent in sent_tokens:\n",
    "    for word in sent.split():\n",
    "        if word.lower() in word_cnt.keys():\n",
    "            if sent not in sent_score.keys():\n",
    "                sent_score[sent] = word_cnt[word]\n",
    "            else:\n",
    "                sent_score[sent] += word_cnt[word]\n",
    "        print(word)"
   ]
  },
  {
   "cell_type": "code",
   "execution_count": 26,
   "id": "f8ccff0c-c32c-4526-b311-ac72077621d9",
   "metadata": {},
   "outputs": [
    {
     "data": {
      "text/plain": [
       "{'\"Python is a high-level, interpreted programming language known for its simplicity and readability. Created by Guido van Rossum and first released in 1991, Python emphasizes code clarity with its clean syntax and indentation-based structure.': 2.833333333333333,\n",
       " 'It supports multiple programming paradigms, including procedural, object-oriented, and functional programming.': 1.3333333333333335,\n",
       " 'Python’s extensive standard library and vibrant ecosystem of third-party packages make it a versatile tool for a wide range of applications, from web development and automation to data science, machine learning, and artificial intelligence.': 3.6666666666666665,\n",
       " 'Popular frameworks like Django and Flask enable rapid web development, while libraries such as NumPy, Pandas, and Scikit-learn support scientific computing and data analysis.': 2.0000000000000004,\n",
       " 'Python is widely used in scripting, automation, cybersecurity, and DevOps, making it a crucial skill in modern software development.': 1.1666666666666665,\n",
       " 'With a strong community and comprehensive documentation, Python remains one of the most beginner-friendly languages, attracting both newcomers and experienced developers alike.': 1.6666666666666665,\n",
       " 'Its cross-platform compatibility allows applications to run seamlessly across different operating systems.': 1.3333333333333333,\n",
       " 'Python’s simple syntax, combined with its powerful capabilities, ensures that it remains a dominant language in programming, continually evolving to meet the demands of cutting-edge technology, making it an indispensable tool for developers worldwide.': 3.3333333333333335}"
      ]
     },
     "execution_count": 26,
     "metadata": {},
     "output_type": "execute_result"
    }
   ],
   "source": [
    "sent_score"
   ]
  },
  {
   "cell_type": "code",
   "execution_count": 27,
   "id": "abe61c68-bd9e-4250-83a0-717f056a3038",
   "metadata": {},
   "outputs": [],
   "source": [
    "import pandas as pd"
   ]
  },
  {
   "cell_type": "code",
   "execution_count": 28,
   "id": "226131ad-3d2e-423e-b7c7-73965d866d56",
   "metadata": {},
   "outputs": [
    {
     "data": {
      "text/html": [
       "<div>\n",
       "<style scoped>\n",
       "    .dataframe tbody tr th:only-of-type {\n",
       "        vertical-align: middle;\n",
       "    }\n",
       "\n",
       "    .dataframe tbody tr th {\n",
       "        vertical-align: top;\n",
       "    }\n",
       "\n",
       "    .dataframe thead th {\n",
       "        text-align: right;\n",
       "    }\n",
       "</style>\n",
       "<table border=\"1\" class=\"dataframe\">\n",
       "  <thead>\n",
       "    <tr style=\"text-align: right;\">\n",
       "      <th></th>\n",
       "      <th>Sentence</th>\n",
       "      <th>Score</th>\n",
       "    </tr>\n",
       "  </thead>\n",
       "  <tbody>\n",
       "    <tr>\n",
       "      <th>0</th>\n",
       "      <td>\"Python is a high-level, interpreted programmi...</td>\n",
       "      <td>2.833333</td>\n",
       "    </tr>\n",
       "    <tr>\n",
       "      <th>1</th>\n",
       "      <td>It supports multiple programming paradigms, in...</td>\n",
       "      <td>1.333333</td>\n",
       "    </tr>\n",
       "    <tr>\n",
       "      <th>2</th>\n",
       "      <td>Python’s extensive standard library and vibran...</td>\n",
       "      <td>3.666667</td>\n",
       "    </tr>\n",
       "    <tr>\n",
       "      <th>3</th>\n",
       "      <td>Popular frameworks like Django and Flask enabl...</td>\n",
       "      <td>2.000000</td>\n",
       "    </tr>\n",
       "    <tr>\n",
       "      <th>4</th>\n",
       "      <td>Python is widely used in scripting, automation...</td>\n",
       "      <td>1.166667</td>\n",
       "    </tr>\n",
       "    <tr>\n",
       "      <th>5</th>\n",
       "      <td>With a strong community and comprehensive docu...</td>\n",
       "      <td>1.666667</td>\n",
       "    </tr>\n",
       "    <tr>\n",
       "      <th>6</th>\n",
       "      <td>Its cross-platform compatibility allows applic...</td>\n",
       "      <td>1.333333</td>\n",
       "    </tr>\n",
       "    <tr>\n",
       "      <th>7</th>\n",
       "      <td>Python’s simple syntax, combined with its powe...</td>\n",
       "      <td>3.333333</td>\n",
       "    </tr>\n",
       "  </tbody>\n",
       "</table>\n",
       "</div>"
      ],
      "text/plain": [
       "                                            Sentence     Score\n",
       "0  \"Python is a high-level, interpreted programmi...  2.833333\n",
       "1  It supports multiple programming paradigms, in...  1.333333\n",
       "2  Python’s extensive standard library and vibran...  3.666667\n",
       "3  Popular frameworks like Django and Flask enabl...  2.000000\n",
       "4  Python is widely used in scripting, automation...  1.166667\n",
       "5  With a strong community and comprehensive docu...  1.666667\n",
       "6  Its cross-platform compatibility allows applic...  1.333333\n",
       "7  Python’s simple syntax, combined with its powe...  3.333333"
      ]
     },
     "execution_count": 28,
     "metadata": {},
     "output_type": "execute_result"
    }
   ],
   "source": [
    "pd.DataFrame(list(sent_score.items()),columns=['Sentence','Score'])"
   ]
  },
  {
   "cell_type": "code",
   "execution_count": 29,
   "id": "d3f4562f-4c94-468a-a7e8-1087819f262b",
   "metadata": {},
   "outputs": [],
   "source": [
    "from heapq import nlargest"
   ]
  },
  {
   "cell_type": "code",
   "execution_count": 30,
   "id": "efc96ddf-a2e6-4728-a264-cca3b78c02b1",
   "metadata": {},
   "outputs": [],
   "source": [
    "sents =3\n",
    "n=nlargest(sents,sent_score,key=sent_score.get)"
   ]
  },
  {
   "cell_type": "code",
   "execution_count": 31,
   "id": "b3980edb-3d43-43bd-b9bd-63f509d0c26c",
   "metadata": {},
   "outputs": [
    {
     "data": {
      "text/plain": [
       "'Python’s extensive standard library and vibrant ecosystem of third-party packages make it a versatile tool for a wide range of applications, from web development and automation to data science, machine learning, and artificial intelligence. Python’s simple syntax, combined with its powerful capabilities, ensures that it remains a dominant language in programming, continually evolving to meet the demands of cutting-edge technology, making it an indispensable tool for developers worldwide. \"Python is a high-level, interpreted programming language known for its simplicity and readability. Created by Guido van Rossum and first released in 1991, Python emphasizes code clarity with its clean syntax and indentation-based structure.'"
      ]
     },
     "execution_count": 31,
     "metadata": {},
     "output_type": "execute_result"
    }
   ],
   "source": [
    "\" \".join(n)"
   ]
  },
  {
   "cell_type": "code",
   "execution_count": null,
   "id": "4a2e94dc-ede0-4e6d-bea2-937776950fce",
   "metadata": {},
   "outputs": [],
   "source": []
  },
  {
   "cell_type": "markdown",
   "id": "2f2b0538-d99a-456a-865e-4ea18704dff6",
   "metadata": {},
   "source": [
    "##### Extractive summary done"
   ]
  },
  {
   "cell_type": "code",
   "execution_count": null,
   "id": "519a9045-f31f-493e-afc5-5e517adacea7",
   "metadata": {},
   "outputs": [],
   "source": []
  }
 ],
 "metadata": {
  "kernelspec": {
   "display_name": "Python 3 (ipykernel)",
   "language": "python",
   "name": "python3"
  },
  "language_info": {
   "codemirror_mode": {
    "name": "ipython",
    "version": 3
   },
   "file_extension": ".py",
   "mimetype": "text/x-python",
   "name": "python",
   "nbconvert_exporter": "python",
   "pygments_lexer": "ipython3",
   "version": "3.11.7"
  }
 },
 "nbformat": 4,
 "nbformat_minor": 5
}
